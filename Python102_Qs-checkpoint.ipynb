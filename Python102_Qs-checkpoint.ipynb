{
 "cells": [
  {
   "cell_type": "code",
   "execution_count": 1,
   "id": "a5f14788",
   "metadata": {},
   "outputs": [
    {
     "name": "stdout",
     "output_type": "stream",
     "text": [
      "Please type your name: Stephen\n",
      "Hello Stephen\n"
     ]
    }
   ],
   "source": [
    "## Question 1\n",
    "def hello_name(user_name):\n",
    "    print('Hello ' + user_name)\n",
    "\n",
    "user_name=input(\"Please type your name: \")\n",
    "hello_name(user_name) "
   ]
  },
  {
   "cell_type": "code",
   "execution_count": 3,
   "id": "8de3cfb4",
   "metadata": {},
   "outputs": [
    {
     "name": "stdout",
     "output_type": "stream",
     "text": [
      "1\n",
      "3\n",
      "5\n",
      "7\n",
      "9\n",
      "11\n",
      "13\n",
      "15\n",
      "17\n",
      "19\n",
      "21\n",
      "23\n",
      "25\n",
      "27\n",
      "29\n",
      "31\n",
      "33\n",
      "35\n",
      "37\n",
      "39\n",
      "41\n",
      "43\n",
      "45\n",
      "47\n",
      "49\n",
      "51\n",
      "53\n",
      "55\n",
      "57\n",
      "59\n",
      "61\n",
      "63\n",
      "65\n",
      "67\n",
      "69\n",
      "71\n",
      "73\n",
      "75\n",
      "77\n",
      "79\n",
      "81\n",
      "83\n",
      "85\n",
      "87\n",
      "89\n",
      "91\n",
      "93\n",
      "95\n",
      "97\n",
      "99\n"
     ]
    }
   ],
   "source": [
    "## Question 2\n",
    "counter = 0\n",
    "while counter < 100:\n",
    "    counter += 1\n",
    "    if(counter%2 == 0):\n",
    "        continue\n",
    "    print(counter) "
   ]
  },
  {
   "cell_type": "code",
   "execution_count": 4,
   "id": "3d7fc2d3",
   "metadata": {},
   "outputs": [
    {
     "data": {
      "text/plain": [
       "403"
      ]
     },
     "execution_count": 4,
     "metadata": {},
     "output_type": "execute_result"
    }
   ],
   "source": [
    "## Question 3\n",
    "def max_num_in_list(a_list):\n",
    "    max_number = a_list[0]\n",
    "    for number in a_list:\n",
    "        if number > max_number:\n",
    "            max_number = number\n",
    "    return max_number\n",
    "new_list = [1,3,2,6,89,102,4,403,9]\n",
    "max_num_in_list(new_list)"
   ]
  },
  {
   "cell_type": "code",
   "execution_count": 19,
   "id": "301217e6",
   "metadata": {},
   "outputs": [
    {
     "name": "stdout",
     "output_type": "stream",
     "text": [
      "\n",
      "Is this a leap year?\n",
      "Please enter a year: 1554\n",
      "1554 is not a leap year.\n"
     ]
    }
   ],
   "source": [
    "## Question 4\n",
    "def is_leap_year(a_year):\n",
    "    leapyear = False\n",
    "    if(a_year%400 == 0):\n",
    "        leapyear = True\n",
    "    elif(a_year%100 == 0):\n",
    "        leapyear = False\n",
    "    elif(a_year%4 == 0):\n",
    "        leapyear = True\n",
    "    if(leapyear == True):\n",
    "        print(str(a_year) + \" is a leap year!\")\n",
    "    else:\n",
    "        print(str(a_year) + \" is not a leap year.\")\n",
    "\n",
    "prompt = \"\\nIs this a leap year?\"\n",
    "prompt += \"\\nPlease enter a year: \"\n",
    "\n",
    "test_year = int(input(prompt))\n",
    "is_leap_year(test_year)\n",
    "\n"
   ]
  },
  {
   "cell_type": "code",
   "execution_count": 24,
   "id": "5a9af351",
   "metadata": {},
   "outputs": [
    {
     "name": "stdout",
     "output_type": "stream",
     "text": [
      "\n",
      "Are these numbers consecutive?\n",
      "Type in some numbers (enter q to finish entering numbers): \n",
      "1201\n",
      "1202\n",
      "1203\n",
      "1204\n",
      "1205\n",
      "q\n",
      "All the numbers are consecutive!\n"
     ]
    }
   ],
   "source": [
    "## Question 5\n",
    "def is_consecutive(a_list):\n",
    "    consecutive = False\n",
    "    last_number=a_list[0]-1\n",
    "    for number in a_list:\n",
    "        if(number - last_number == 1):\n",
    "            consecutive = True\n",
    "            last_number = number\n",
    "            continue\n",
    "        else:\n",
    "            consecutive = False\n",
    "            break\n",
    "    if(consecutive):\n",
    "        print(\"All the numbers are consecutive!\")\n",
    "    else:\n",
    "        print(\"Some numbers are not consecutive.\")\n",
    "\n",
    "prompt = \"\\nAre these numbers consecutive?\"\n",
    "prompt += \"\\nType in some numbers (enter q to finish entering numbers): \"\n",
    "\n",
    "print(prompt)\n",
    "test_numbers = \"\"\n",
    "test_list = []\n",
    "while test_numbers != 'q':\n",
    "    test_numbers = input()\n",
    "    if(test_numbers != 'q'):\n",
    "        test_list.append(int(test_numbers))\n",
    "is_consecutive(test_list)"
   ]
  }
 ],
 "metadata": {
  "kernelspec": {
   "display_name": "Python 3",
   "language": "python",
   "name": "python3"
  },
  "language_info": {
   "codemirror_mode": {
    "name": "ipython",
    "version": 3
   },
   "file_extension": ".py",
   "mimetype": "text/x-python",
   "name": "python",
   "nbconvert_exporter": "python",
   "pygments_lexer": "ipython3",
   "version": "3.9.5"
  }
 },
 "nbformat": 4,
 "nbformat_minor": 5
}
